{
 "cells": [
  {
   "cell_type": "code",
   "execution_count": 2,
   "metadata": {},
   "outputs": [],
   "source": [
    "import pandas as pd\n",
    "import numpy as np\n",
    "from collections import deque\n",
    "import heapq"
   ]
  },
  {
   "cell_type": "markdown",
   "metadata": {},
   "source": [
    "### 'Manhattan\" distance between two points in the graph. Diff from Euclidean distance\n",
    "$$|x_1-x_2| + |y_1-y_2|$$"
   ]
  },
  {
   "cell_type": "code",
   "execution_count": null,
   "metadata": {},
   "outputs": [],
   "source": [
    "def distance(pos1, pos2):\n",
    "  return abs(pos1[0] - pos2[0]) + abs(pos1[1] - pos2[1])"
   ]
  },
  {
   "cell_type": "markdown",
   "metadata": {},
   "source": [
    "### our heuristic is \n",
    "$$h(n) = |n_{\\text{row}} - g_{\\text{row}}| + |n_{\\text{col}} + g_{\\text{col}}|$$\n",
    "#### where $n_{\\text{row}} \\text{ and } n_{\\text{col}} \\text{ is the current position, and } g_{\\text{row}} \\text{ and } g_{\\text{col}}$ are goal coordinates\n",
    "* our heuristic is consistent as moving from one square to another adjacent square decreases remaining distance to goal coordinates by 1"
   ]
  },
  {
   "cell_type": "code",
   "execution_count": 17,
   "metadata": {},
   "outputs": [],
   "source": [
    "def pathfinding(filepath):\n",
    "    df = pd.read_csv(filepath)\n",
    "    size = df.shape\n",
    "\n",
    "    m, n = size[0], size[1]\n",
    "\n",
    "    start, goal = (0, 0), (0, 0)\n",
    "\n",
    "    def find_start_and_goal_cell() -> tuple[[tuple[int, int], tuple[int, int]]]:\n",
    "        nonlocal start, goal\n",
    "        for i, row in df.iterrows():\n",
    "            for j, n in enumerate(row):\n",
    "                if n == \"S\":\n",
    "                    start = (i, j)\n",
    "                if n == \"G\":\n",
    "                    goal = (i, j)\n",
    "        return start, goal\n",
    "\n",
    "    def heuristic(pos) -> int:\n",
    "        return abs(pos[0] - goal[0]) + abs(pos[1] - goal[1])\n",
    "\n",
    "    class State:\n",
    "        def __init__(self, pos, cur_keys, doors_opened, keys_collected):\n",
    "            self.pos = pos\n",
    "            self.cur_keys = cur_keys\n",
    "            self.doors_opened = frozenset(doors_opened)\n",
    "            self.keys_collected = frozenset(keys_collected)\n",
    "\n",
    "        def __eq__(self, __o: object) -> bool:\n",
    "            return (\n",
    "                self.position == __o.position\n",
    "                and self.cur_keys == __o.cur_keys\n",
    "                and self.doors_opened == __o.doors_opened\n",
    "                and self.keys_collected == __o.keys_collected\n",
    "            )\n",
    "\n",
    "        def __hash__(self) -> int:\n",
    "            return hash(\n",
    "                (self.position, self.cur_keys, self.doors_opened, self.keys_collected)\n",
    "            )\n",
    "\n",
    "    start_state = State(start, 0, frozenset(), frozenset())\n",
    "    heap = []\n",
    "    heapq.heappush(heap, (heuristic(start), 0, start_state))\n",
    "\n",
    "    g_score = {start_state: 0}\n",
    "    came_from = {}\n",
    "    explored = set()\n",
    "    states_explored = 0\n",
    "    \n",
    "    while heap:\n",
    "       # TODO: literally the entire A* search logic\n",
    "       pass\n",
    "\n",
    "    return find_start_and_goal_cell()\n",
    "    # return optimal_path, optimal_path_cost, num_states_explored"
   ]
  },
  {
   "cell_type": "code",
   "execution_count": 27,
   "metadata": {},
   "outputs": [
    {
     "name": "stdout",
     "output_type": "stream",
     "text": [
      " Example 0:\t ((0, 0), (1, 0)) \n",
      " Example 1:\t ((0, 0), (6, 0)) \n",
      " Example 2:\t ((0, 0), (7, 0)) \n",
      " Example 3:\t ((0, 0), (0, 0))\n"
     ]
    }
   ],
   "source": [
    "print(\" Example 0:\\t\", pathfinding(\"data/E0/grid.csv\"), \"\\n Example 1:\\t\",\n",
    "pathfinding(\"data/E1/grid.csv\"), \"\\n Example 2:\\t\",\n",
    "pathfinding(\"data/E2/grid.csv\"), \"\\n Example 3:\\t\",\n",
    "pathfinding(\"data/E3/grid.csv\"))"
   ]
  },
  {
   "cell_type": "code",
   "execution_count": null,
   "metadata": {},
   "outputs": [],
   "source": []
  }
 ],
 "metadata": {
  "kernelspec": {
   "display_name": "Jonathan_Kevin_COMP3106_A1",
   "language": "python",
   "name": "python3"
  },
  "language_info": {
   "codemirror_mode": {
    "name": "ipython",
    "version": 3
   },
   "file_extension": ".py",
   "mimetype": "text/x-python",
   "name": "python",
   "nbconvert_exporter": "python",
   "pygments_lexer": "ipython3",
   "version": "3.12.5"
  }
 },
 "nbformat": 4,
 "nbformat_minor": 2
}
