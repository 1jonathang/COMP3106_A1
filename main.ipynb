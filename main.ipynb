{
 "cells": [
  {
   "cell_type": "code",
   "execution_count": 32,
   "metadata": {},
   "outputs": [],
   "source": [
    "import pandas as pd\n",
    "import numpy as np\n",
    "from collections import deque\n",
    "import heapq"
   ]
  },
  {
   "cell_type": "markdown",
   "metadata": {},
   "source": [
    "### creating a class to represent the state our traversal is currently at"
   ]
  },
  {
   "cell_type": "code",
   "execution_count": 33,
   "metadata": {},
   "outputs": [],
   "source": [
    "class State:\n",
    "    \"\"\"\n",
    "    creating a class to represent the state our agent is currently at\n",
    "    \"\"\"\n",
    "    def __init__(self, pos, cur_keys, doors_opened, keys_collected):\n",
    "        self.pos = pos\n",
    "        self.cur_keys = cur_keys\n",
    "        self.doors_opened = frozenset(doors_opened) # using `frozenset` here because sets are unhashable, and we need this class to be hashable\n",
    "        self.keys_collected = frozenset(keys_collected)\n",
    "\n",
    "    def __eq__(self, other):\n",
    "        \"\"\"\n",
    "        function check if two states are equal to eachother\n",
    "        \"\"\"\n",
    "        return (\n",
    "            self.pos == other.pos\n",
    "            and self.cur_keys == other.cur_keys\n",
    "            and self.doors_opened == other.doors_opened\n",
    "            and self.keys_collected == other.keys_collected\n",
    "        )\n",
    "\n",
    "    def __hash__(self):\n",
    "        \"\"\"\n",
    "         generates hash values for a state based off of its attributes\n",
    "         we need to do this since we'll be storing states in a dictionary later\n",
    "        \"\"\"\n",
    "        return hash((self.pos, self.cur_keys, self.doors_opened, self.keys_collected))"
   ]
  },
  {
   "cell_type": "markdown",
   "metadata": {},
   "source": [
    "### our heuristic is \n",
    "$$h(n) = |n_{\\text{row}} - g_{\\text{row}}| + |n_{\\text{col}} + g_{\\text{col}}|$$\n",
    "#### where $n_{\\text{row}} \\text{ and } n_{\\text{col}} \\text{ is the current position, and } g_{\\text{row}} \\text{ and } g_{\\text{col}}$ are goal coordinates\n",
    "* our heuristic is consistent as moving from one square to another adjacent square decreases remaining distance to goal coordinates by 1"
   ]
  },
  {
   "cell_type": "code",
   "execution_count": 34,
   "metadata": {},
   "outputs": [],
   "source": [
    "def heuristic(pos, goal):\n",
    "   \"\"\"\n",
    "   our heuristic function for A* search utilizing the Manhattan distances\n",
    "   \"\"\"\n",
    "   return abs(pos[0] - goal[0]) + abs(pos[1] - goal[1])"
   ]
  },
  {
   "cell_type": "code",
   "execution_count": 35,
   "metadata": {},
   "outputs": [],
   "source": [
    "def find_start_goal(df):\n",
    "   \"\"\"\n",
    "   Args:\n",
    "       df (pandas dataframe): our environment grid\n",
    "\n",
    "   Returns:\n",
    "       (tuple), (tuple): coordinates of start and goal cells\n",
    "   \"\"\"\n",
    "   # dimensions of grid\n",
    "   m, n = df.shape\n",
    "\n",
    "   # looping through grid to find start and goal cells\n",
    "   start, goal = None, None\n",
    "   for i in range(m):\n",
    "      for j in range(n):\n",
    "         value = df.iloc[i, j]\n",
    "         if value == 'S':\n",
    "            start = (i, j)\n",
    "         if value == 'G':\n",
    "            goal = (i, j)\n",
    "   return start, goal"
   ]
  },
  {
   "cell_type": "code",
   "execution_count": 36,
   "metadata": {},
   "outputs": [],
   "source": [
    "def pathfinding(filepath):\n",
    "    # reading the csv file with pandas, need to remove header, and all data is of type str\n",
    "    df = pd.read_csv(filepath, header=None, dtype=str)\n",
    "    # getting the dimensions of the grid\n",
    "    m, n = df.shape\n",
    "\n",
    "    # finding the start and goal positions\n",
    "    start, goal = find_start_goal(df)\n",
    "    # if start or goal cells don't exist then break and return -1\n",
    "    if start is None or goal is None:\n",
    "       return -1\n",
    "   \n",
    "    # initializing our start state with the start position, and everything 0 and empty\n",
    "    start_state = State(start, 0, frozenset(), frozenset())\n",
    "    # our priority queue\n",
    "    heap = []\n",
    "    # need to use a counter so all heap elements are unique, otherwise error will occur\n",
    "    counter = 0\n",
    "    # pushing initial start state to our priority queue, its going to consist of [heuristic value, f-score, counter, state]\n",
    "    heapq.heappush(heap, (heuristic(start, goal), 0, counter, start_state))\n",
    "    counter += 1\n",
    "\n",
    "    # g-score, cost of the path from the start cell to current cell\n",
    "    g_score = {start_state: 0}\n",
    "    # this is where we're gonna reconstruct the optimal path after finding it\n",
    "    came_from = {}\n",
    "    # set to keep track of cells we've already explored\n",
    "    explored = set()\n",
    "    # keeping track of the number of states we explored\n",
    "    states_explored = 0\n",
    "\n",
    "    # the entire A* search logic\n",
    "    while heap:\n",
    "        # popping off the priority queue\n",
    "        _, _, _, current_state = heapq.heappop(heap)\n",
    "        # incrementing states explored\n",
    "        states_explored += 1\n",
    "\n",
    "        # checking if we reached the goal\n",
    "        if current_state.pos == goal:\n",
    "            # reconstructing our optimal path\n",
    "            optimal_path = []\n",
    "            state = current_state\n",
    "            while state in came_from:\n",
    "                optimal_path.append(state.pos)\n",
    "                state = came_from[state]\n",
    "            # adding our start position, then reversing it because we just constructed it in reverse order\n",
    "            optimal_path.append(start_state.pos)\n",
    "            optimal_path.reverse()\n",
    "            # this is our total cost to reach the goal\n",
    "            optimal_cost = g_score[current_state]\n",
    "            return optimal_path, optimal_cost, states_explored\n",
    "        if current_state in explored:\n",
    "            continue\n",
    "        explored.add(current_state)\n",
    "\n",
    "        # iterating over neighbors of current cell\n",
    "        row, col = current_state.pos\n",
    "        dirs = [(-1, 0), (1, 0), (0, -1), (0, 1)]\n",
    "        for d_row, d_col in dirs:\n",
    "            new_row, new_col = row + d_row, col + d_col\n",
    "            # checking if new cell is within bounds\n",
    "            if 0 <= new_row < m and 0 <= new_col < n:\n",
    "                cell = df.iloc[new_row, new_col]\n",
    "                new_pos = (new_row, new_col)\n",
    "                # initializing class variables\n",
    "                new_keys_in_possession = current_state.cur_keys\n",
    "                new_doors_opened = set(current_state.doors_opened)\n",
    "                new_keys_collected = set(current_state.keys_collected)\n",
    "                # creating a flag to make sure movement to this cell can't happen\n",
    "                can_move = False\n",
    "\n",
    "                # determining if we can move to neighboring cell based off what their type is\n",
    "                if cell in (\"O\", \"S\", \"G\"):\n",
    "                    can_move = True\n",
    "                elif cell == \"K\":\n",
    "                    can_move = True\n",
    "                    # if the neighbor cell is a key and we haven't collected it yet, then collect it\n",
    "                    if new_pos not in current_state.keys_collected:\n",
    "                        new_keys_in_possession += 1\n",
    "                        new_keys_collected.add(new_pos)\n",
    "                elif cell == \"D\":\n",
    "                    # need to check if we've opened this door already\n",
    "                    if new_pos in current_state.doors_opened:\n",
    "                        can_move = True\n",
    "                    elif current_state.cur_keys >= 1:\n",
    "                        # if this door is closed, \"open it\" (decrementing our number of keys by 1)\n",
    "                        can_move = True\n",
    "                        new_keys_in_possession -= 1\n",
    "                        new_doors_opened.add(new_pos)\n",
    "                    else:\n",
    "                        # can't open door because we don't have enough keys\n",
    "                        can_move = False\n",
    "                else:\n",
    "                    can_move = False\n",
    "\n",
    "                # if we can move to this neighbor cell, then create a new state for it\n",
    "                if can_move:\n",
    "                    neighbor_state = State(\n",
    "                        new_pos,\n",
    "                        new_keys_in_possession,\n",
    "                        frozenset(new_doors_opened),\n",
    "                        frozenset(new_keys_collected),\n",
    "                    )\n",
    "                    # calculating new g-score, cost to reach neighbor from start state. basically + 1 of g-score from previous cell\n",
    "                    new_g_score = g_score[current_state] + 1\n",
    "                    if neighbor_state in explored:\n",
    "                        continue\n",
    "                    # checking if this path to the neighbor is better than any previous one\n",
    "                    if (\n",
    "                        neighbor_state not in g_score\n",
    "                        or new_g_score < g_score[neighbor_state]\n",
    "                    ):\n",
    "                        came_from[neighbor_state] = current_state\n",
    "                        g_score[neighbor_state] = new_g_score\n",
    "                        # f(n) = g(n) + h(n)\n",
    "                        f_score = new_g_score + heuristic(new_pos, goal)\n",
    "                        heapq.heappush(heap, (f_score, new_g_score, counter, neighbor_state))\n",
    "                        counter += 1\n",
    "    # edge case where not possible to reach goal\n",
    "    return [], -1, states_explored"
   ]
  },
  {
   "cell_type": "code",
   "execution_count": 37,
   "metadata": {},
   "outputs": [
    {
     "name": "stdout",
     "output_type": "stream",
     "text": [
      "\t path:  [(0, 0), (0, 1), (1, 1), (2, 1), (2, 0)]  \n",
      " \t cost:  4 \n",
      " \t states:  7\n"
     ]
    }
   ],
   "source": [
    "path, cost, states = pathfinding(\"data/E0/grid.csv\")\n",
    "print(\"\\t path: \", path, \" \\n \\t cost: \", cost, \"\\n \\t states: \", states)"
   ]
  },
  {
   "cell_type": "code",
   "execution_count": 38,
   "metadata": {},
   "outputs": [
    {
     "name": "stdout",
     "output_type": "stream",
     "text": [
      "\t path:  [(0, 0), (1, 0), (2, 0), (3, 0), (4, 0), (5, 0), (6, 0), (7, 0)]  \n",
      " \t cost:  7 \n",
      " \t states:  8\n"
     ]
    }
   ],
   "source": [
    "path, cost, states = pathfinding(\"data/E1/grid.csv\")\n",
    "print(\"\\t path: \", path, \" \\n \\t cost: \", cost, \"\\n \\t states: \", states)"
   ]
  },
  {
   "cell_type": "code",
   "execution_count": 39,
   "metadata": {},
   "outputs": [
    {
     "name": "stdout",
     "output_type": "stream",
     "text": [
      "\t path:  [(0, 0), (1, 0), (2, 0), (3, 0), (4, 0), (3, 0), (2, 0), (1, 0), (0, 0), (0, 1), (0, 2), (0, 3), (0, 4), (1, 4), (2, 4), (3, 4), (4, 4), (5, 4), (6, 4), (7, 4), (8, 4), (8, 3), (8, 2), (8, 1), (8, 0)]  \n",
      " \t cost:  24 \n",
      " \t states:  252\n"
     ]
    }
   ],
   "source": [
    "path, cost, states = pathfinding(\"data/E2/grid.csv\")\n",
    "print(\"\\t path: \", path, \" \\n \\t cost: \", cost, \"\\n \\t states: \", states)"
   ]
  },
  {
   "cell_type": "code",
   "execution_count": 40,
   "metadata": {},
   "outputs": [
    {
     "name": "stdout",
     "output_type": "stream",
     "text": [
      "\t path:  [(0, 0), (0, 1), (0, 2), (0, 3), (0, 4), (0, 5), (0, 6), (0, 7), (0, 8), (0, 9)]  \n",
      " \t cost:  9 \n",
      " \t states:  10\n"
     ]
    }
   ],
   "source": [
    "path, cost, states = pathfinding(\"data/E3/grid.csv\")\n",
    "print(\"\\t path: \", path, \" \\n \\t cost: \", cost, \"\\n \\t states: \", states)"
   ]
  },
  {
   "cell_type": "code",
   "execution_count": null,
   "metadata": {},
   "outputs": [],
   "source": []
  },
  {
   "cell_type": "code",
   "execution_count": null,
   "metadata": {},
   "outputs": [],
   "source": []
  }
 ],
 "metadata": {
  "kernelspec": {
   "display_name": "Jonathan_Kevin_COMP3106_A1",
   "language": "python",
   "name": "python3"
  },
  "language_info": {
   "codemirror_mode": {
    "name": "ipython",
    "version": 3
   },
   "file_extension": ".py",
   "mimetype": "text/x-python",
   "name": "python",
   "nbconvert_exporter": "python",
   "pygments_lexer": "ipython3",
   "version": "3.12.5"
  }
 },
 "nbformat": 4,
 "nbformat_minor": 2
}
