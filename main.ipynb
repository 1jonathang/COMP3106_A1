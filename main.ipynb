{
 "cells": [
  {
   "cell_type": "code",
   "execution_count": 42,
   "metadata": {},
   "outputs": [],
   "source": [
    "import pandas as pd\n",
    "import numpy as np\n",
    "from collections import deque\n",
    "import heapq"
   ]
  },
  {
   "cell_type": "markdown",
   "metadata": {},
   "source": [
    "### 'Manhattan\" distance between two points in the graph. Diff from Euclidean distance\n",
    "$$|x_1-x_2| + |y_1-y_2|$$"
   ]
  },
  {
   "cell_type": "code",
   "execution_count": 43,
   "metadata": {},
   "outputs": [],
   "source": [
    "def distance(pos1, pos2):\n",
    "  return abs(pos1[0] - pos2[0]) + abs(pos1[1] - pos2[1])"
   ]
  },
  {
   "cell_type": "markdown",
   "metadata": {},
   "source": [
    "### our heuristic is \n",
    "$$h(n) = |n_{\\text{row}} - g_{\\text{row}}| + |n_{\\text{col}} + g_{\\text{col}}|$$\n",
    "#### where $n_{\\text{row}} \\text{ and } n_{\\text{col}} \\text{ is the current position, and } g_{\\text{row}} \\text{ and } g_{\\text{col}}$ are goal coordinates\n",
    "* our heuristic is consistent as moving from one square to another adjacent square decreases remaining distance to goal coordinates by 1"
   ]
  },
  {
   "cell_type": "code",
   "execution_count": 44,
   "metadata": {},
   "outputs": [],
   "source": [
    "class State:\n",
    "    def __init__(self, pos, cur_keys, doors_opened, keys_collected):\n",
    "        self.pos = pos\n",
    "        self.cur_keys = cur_keys\n",
    "        self.doors_opened = frozenset(doors_opened)\n",
    "        self.keys_collected = frozenset(keys_collected)\n",
    "\n",
    "    def __eq__(self, other):\n",
    "        return (\n",
    "            self.pos == other.pos\n",
    "            and self.cur_keys == other.cur_keys\n",
    "            and self.doors_opened == other.doors_opened\n",
    "            and self.keys_collected == other.keys_collected\n",
    "        )\n",
    "\n",
    "    def __hash__(self):\n",
    "        return hash((self.pos, self.cur_keys, self.doors_opened, self.keys_collected))"
   ]
  },
  {
   "cell_type": "code",
   "execution_count": 45,
   "metadata": {},
   "outputs": [],
   "source": [
    "def heuristic(pos, goal) -> int:\n",
    "   return abs(pos[0] - goal[0]) + abs(pos[1] - goal[1])"
   ]
  },
  {
   "cell_type": "code",
   "execution_count": 46,
   "metadata": {},
   "outputs": [],
   "source": [
    "def find_start_goal(df):\n",
    "   m, n = df.shape\n",
    "\n",
    "   start, goal = None, None\n",
    "   for i in range(m):\n",
    "      for j in range(n):\n",
    "         value = df.iloc[i, j]\n",
    "         if value == 'S':\n",
    "            start = (i, j)\n",
    "         if value == 'G':\n",
    "            goal = (i, j)\n",
    "   return start, goal"
   ]
  },
  {
   "cell_type": "code",
   "execution_count": 47,
   "metadata": {},
   "outputs": [],
   "source": [
    "def pathfinding(filepath):\n",
    "    df = pd.read_csv(filepath, header=None, dtype=str)\n",
    "    m, n = df.shape\n",
    "    print(df.head(), \"\\n\")\n",
    "\n",
    "    start, goal = find_start_goal(df)\n",
    "    if start is None or goal is None:\n",
    "       return -1\n",
    "   \n",
    "    start_state = State(start, 0, frozenset(), frozenset())\n",
    "    heap = []\n",
    "    counter = 0\n",
    "    heapq.heappush(heap, (heuristic(start, goal), 0, counter, start_state))\n",
    "    counter += 1\n",
    "\n",
    "    g_score = {start_state: 0}\n",
    "    came_from = {}\n",
    "    explored = set()\n",
    "    states_explored = 0\n",
    "\n",
    "    while heap:\n",
    "        _, _, _, current_state = heapq.heappop(heap)\n",
    "\n",
    "        if current_state.pos == goal:\n",
    "            optimal_path = []\n",
    "            state = current_state\n",
    "            while state in came_from:\n",
    "                optimal_path.append(state.pos)\n",
    "                state = came_from[state]\n",
    "            optimal_path.append(start_state.pos)\n",
    "            optimal_path.reverse()\n",
    "            optimal_cost = g_score[current_state]\n",
    "            return optimal_path, optimal_cost, states_explored\n",
    "        if current_state in explored:\n",
    "            continue\n",
    "        explored.add(current_state)\n",
    "        states_explored += 1\n",
    "\n",
    "        row, col = current_state.pos\n",
    "        dirs = [(-1, 0), (1, 0), (0, -1), (0, 1)]\n",
    "        for d_row, d_col in dirs:\n",
    "            new_row, new_col = row + d_row, col + d_col\n",
    "            if 0 <= new_row < m and 0 <= new_col < n:\n",
    "                cell = df.iloc[new_row, new_col]\n",
    "                new_pos = (new_row, new_col)\n",
    "                new_keys_in_possession = current_state.cur_keys\n",
    "                new_doors_opened = set(current_state.doors_opened)\n",
    "                new_keys_collected = set(current_state.keys_collected)\n",
    "                can_move = False\n",
    "\n",
    "                if cell in (\"O\", \"S\", \"G\"):\n",
    "                    can_move = True\n",
    "                elif cell == \"K\":\n",
    "                    can_move = True\n",
    "                    if new_pos not in current_state.keys_collected:\n",
    "                        new_keys_in_possession += 1\n",
    "                        new_keys_collected.add(new_pos)\n",
    "                elif cell == \"D\":\n",
    "                    if new_pos in current_state.doors_opened:\n",
    "                        can_move = True\n",
    "                    elif current_state.cur_keys >= 1:\n",
    "                        can_move = True\n",
    "                        new_keys_in_possession -= 1\n",
    "                        new_doors_opened.add(new_pos)\n",
    "                    else:\n",
    "                        can_move = False\n",
    "                else:\n",
    "                    can_move = False\n",
    "\n",
    "                if can_move:\n",
    "                    neighbor_state = State(\n",
    "                        new_pos,\n",
    "                        new_keys_in_possession,\n",
    "                        frozenset(new_doors_opened),\n",
    "                        frozenset(new_keys_collected),\n",
    "                    )\n",
    "                    new_g_score = g_score[current_state] + 1\n",
    "                    if neighbor_state in explored:\n",
    "                        continue\n",
    "                    if (\n",
    "                        neighbor_state not in g_score\n",
    "                        or new_g_score < g_score[neighbor_state]\n",
    "                    ):\n",
    "                        came_from[neighbor_state] = current_state\n",
    "                        g_score[neighbor_state] = new_g_score\n",
    "                        f_score = new_g_score + heuristic(new_pos, goal)\n",
    "                        heapq.heappush(heap, (f_score, new_g_score, counter, neighbor_state))\n",
    "                        counter += 1\n",
    "\n",
    "    return [], -1, states_explored"
   ]
  },
  {
   "cell_type": "code",
   "execution_count": 48,
   "metadata": {},
   "outputs": [
    {
     "name": "stdout",
     "output_type": "stream",
     "text": [
      "   0  1  2\n",
      "0  S  K  O\n",
      "1  D  D  O\n",
      "2  G  O  O \n",
      "\n"
     ]
    },
    {
     "data": {
      "text/plain": [
       "([(0, 0), (0, 1), (1, 1), (2, 1), (2, 0)], 4, 6)"
      ]
     },
     "execution_count": 48,
     "metadata": {},
     "output_type": "execute_result"
    }
   ],
   "source": [
    "pathfinding(\"data/E0/grid.csv\")"
   ]
  },
  {
   "cell_type": "code",
   "execution_count": 49,
   "metadata": {},
   "outputs": [
    {
     "name": "stdout",
     "output_type": "stream",
     "text": [
      "   0  1\n",
      "0  S  O\n",
      "1  K  O\n",
      "2  D  O\n",
      "3  K  O\n",
      "4  K  O \n",
      "\n"
     ]
    },
    {
     "data": {
      "text/plain": [
       "([(0, 0), (1, 0), (2, 0), (3, 0), (4, 0), (5, 0), (6, 0), (7, 0)], 7, 7)"
      ]
     },
     "execution_count": 49,
     "metadata": {},
     "output_type": "execute_result"
    }
   ],
   "source": [
    "pathfinding(\"data/E1/grid.csv\")"
   ]
  },
  {
   "cell_type": "code",
   "execution_count": 50,
   "metadata": {},
   "outputs": [
    {
     "name": "stdout",
     "output_type": "stream",
     "text": [
      "   0  1  2  3  4\n",
      "0  S  D  D  O  O\n",
      "1  K  D  D  D  O\n",
      "2  D  D  D  D  O\n",
      "3  K  D  D  D  O\n",
      "4  K  D  D  D  O \n",
      "\n"
     ]
    },
    {
     "data": {
      "text/plain": [
       "([(0, 0),\n",
       "  (1, 0),\n",
       "  (2, 0),\n",
       "  (3, 0),\n",
       "  (4, 0),\n",
       "  (3, 0),\n",
       "  (2, 0),\n",
       "  (1, 0),\n",
       "  (0, 0),\n",
       "  (0, 1),\n",
       "  (0, 2),\n",
       "  (0, 3),\n",
       "  (0, 4),\n",
       "  (1, 4),\n",
       "  (2, 4),\n",
       "  (3, 4),\n",
       "  (4, 4),\n",
       "  (5, 4),\n",
       "  (6, 4),\n",
       "  (7, 4),\n",
       "  (8, 4),\n",
       "  (8, 3),\n",
       "  (8, 2),\n",
       "  (8, 1),\n",
       "  (8, 0)],\n",
       " 24,\n",
       " 251)"
      ]
     },
     "execution_count": 50,
     "metadata": {},
     "output_type": "execute_result"
    }
   ],
   "source": [
    "pathfinding(\"data/E2/grid.csv\")"
   ]
  },
  {
   "cell_type": "code",
   "execution_count": 51,
   "metadata": {},
   "outputs": [
    {
     "name": "stdout",
     "output_type": "stream",
     "text": [
      "   0  1  2  3  4  5  6  7  8  9\n",
      "0  S  K  K  K  K  D  D  D  D  G \n",
      "\n"
     ]
    },
    {
     "data": {
      "text/plain": [
       "([(0, 0),\n",
       "  (0, 1),\n",
       "  (0, 2),\n",
       "  (0, 3),\n",
       "  (0, 4),\n",
       "  (0, 5),\n",
       "  (0, 6),\n",
       "  (0, 7),\n",
       "  (0, 8),\n",
       "  (0, 9)],\n",
       " 9,\n",
       " 9)"
      ]
     },
     "execution_count": 51,
     "metadata": {},
     "output_type": "execute_result"
    }
   ],
   "source": [
    "pathfinding(\"data/E3/grid.csv\")"
   ]
  }
 ],
 "metadata": {
  "kernelspec": {
   "display_name": "Jonathan_Kevin_COMP3106_A1",
   "language": "python",
   "name": "python3"
  },
  "language_info": {
   "codemirror_mode": {
    "name": "ipython",
    "version": 3
   },
   "file_extension": ".py",
   "mimetype": "text/x-python",
   "name": "python",
   "nbconvert_exporter": "python",
   "pygments_lexer": "ipython3",
   "version": "3.12.5"
  }
 },
 "nbformat": 4,
 "nbformat_minor": 2
}
